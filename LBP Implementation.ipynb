{
 "cells": [
  {
   "cell_type": "code",
   "execution_count": 2,
   "metadata": {},
   "outputs": [],
   "source": [
    "import cv2\n",
    "from matplotlib import pyplot as plt\n",
    "import numpy as np"
   ]
  },
  {
   "cell_type": "code",
   "execution_count": null,
   "metadata": {},
   "outputs": [],
   "source": [
    "\n",
    "def calculateNewPixelVal(img, x, y):\n",
    "    directionX = [-1, -1, -1, 0, 1, 1,  1,  0];\n",
    "    directionY = [-1,  0,  1, 1, 1, 0, -1, -1 ];\n",
    "    binaryVal = 0;\n",
    "    \n",
    "    for i = 1 : 8\n",
    "        newVal = 0\n",
    "        if x+directionX[i] >= 0 x+directionX[i] < height &&  y+directionY[i] > 0 && y+directionY < width:\n",
    "            newVal = img(x+directionX[i],y+directionY[i]) > img(x,y) ? 1 : 0;\n",
    "        else:\n",
    "            newVal = 0\n",
    "        \n",
    "        binaryVal += newVal * pow(2, i - 1) \n",
    "        \n",
    "        \n",
    "\n",
    "for i = 0 : width\n",
    "    for j = 0: height\n",
    "        img(i, j) = calculateNewPixelVal(img, i, j)\n",
    "        \n",
    "for i = 1 : 8\n",
    "    calculateNewPixel(x,)"
   ]
  }
 ],
 "metadata": {
  "kernelspec": {
   "display_name": "Python 2",
   "language": "python",
   "name": "python2"
  },
  "language_info": {
   "codemirror_mode": {
    "name": "ipython",
    "version": 2
   },
   "file_extension": ".py",
   "mimetype": "text/x-python",
   "name": "python",
   "nbconvert_exporter": "python",
   "pygments_lexer": "ipython2",
   "version": "2.7.14"
  }
 },
 "nbformat": 4,
 "nbformat_minor": 2
}
